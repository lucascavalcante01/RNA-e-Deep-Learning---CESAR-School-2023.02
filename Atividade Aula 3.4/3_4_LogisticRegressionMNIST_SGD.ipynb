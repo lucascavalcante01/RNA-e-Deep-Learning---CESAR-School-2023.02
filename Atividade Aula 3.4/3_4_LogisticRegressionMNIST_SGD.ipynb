{
  "nbformat": 4,
  "nbformat_minor": 0,
  "metadata": {
    "colab": {
      "provenance": []
    },
    "kernelspec": {
      "name": "python3",
      "display_name": "Python 3"
    },
    "accelerator": "TPU"
  },
  "cells": [
    {
      "cell_type": "markdown",
      "metadata": {
        "id": "gbTOc6cbl-eq"
      },
      "source": [
        "# Regressão Softmax com dados do MNIST utilizando gradiente descendente estocástico por minibatches"
      ]
    },
    {
      "cell_type": "markdown",
      "metadata": {
        "id": "C-IK0yRml-er"
      },
      "source": [
        "O objetivo deste notebook é ilustrar\n",
        "- o uso do gradiente estocástico por mini-batchs\n",
        "- utilizando as classes Dataset e DataLoater.\n",
        "\n",
        "A apresentação da perda nos gráficos é um pouco diferente da usual, mostrando a perda de cada um dos vários minibatches dentro de cada época, de forma que as épocas são apresentadas com valores fracionários."
      ]
    },
    {
      "cell_type": "markdown",
      "metadata": {
        "id": "mqqDXfr4l-et"
      },
      "source": [
        "## Importação das bibliotecas"
      ]
    },
    {
      "cell_type": "code",
      "metadata": {
        "id": "RVjLNfp3dDnm",
        "colab": {
          "base_uri": "https://localhost:8080/"
        },
        "outputId": "754e1157-daaa-4ad1-8aee-55bb731f51c3"
      },
      "source": [
        "# http://pytorch.org/\n",
        "from os.path import exists\n",
        "#!pip install numpy==1.15.0\n",
        "!pip install -q install wheel==0.34.2 setuptools\n",
        "\n",
        "from wheel.pep425tags import get_abbr_impl, get_impl_ver, get_abi_tag\n",
        "print(get_abbr_impl())\n",
        "platform = '{}{}-{}'.format(get_abbr_impl(), get_impl_ver(), get_abi_tag())\n",
        "cuda_output = !ldconfig -p|grep cudart.so|sed -e 's/.*\\.\\([0-9]*\\)\\.\\([0-9]*\\)$/cu\\1\\2/'\n",
        "accelerator = cuda_output[0] if exists('/dev/nvidia0') else 'cpu'\n",
        "\n",
        "#https://download.pytorch.org/whl/cpu/torch-0.4.1.post2-cp37-cp37m-linux_x86_64.whl\n",
        "!pip install -q http://download.pytorch.org/whl/{accelerator}/torch-0.4.1.post2-{platform}-linux_x86_64.whl torchvision==0.2.1\n",
        "import torch"
      ],
      "execution_count": 1,
      "outputs": [
        {
          "output_type": "stream",
          "name": "stdout",
          "text": [
            "\u001b[31mERROR: pip's dependency resolver does not currently take into account all the packages that are installed. This behaviour is the source of the following dependency conflicts.\n",
            "tf-keras 2.15.1 requires tensorflow<2.16,>=2.15, but you have tensorflow 2.12.0 which is incompatible.\u001b[0m\u001b[31m\n",
            "\u001b[0mcp\n",
            "\u001b[31m  ERROR: HTTP error 403 while getting http://download.pytorch.org/whl/cpu/torch-0.4.1.post2-cp310-cp310-linux_x86_64.whl\u001b[0m\u001b[31m\n",
            "\u001b[0m\u001b[31mERROR: Could not install requirement torch==0.4.1.post2 from http://download.pytorch.org/whl/cpu/torch-0.4.1.post2-cp310-cp310-linux_x86_64.whl because of HTTP error 403 Client Error: Forbidden for url: http://download.pytorch.org/whl/cpu/torch-0.4.1.post2-cp310-cp310-linux_x86_64.whl for URL http://download.pytorch.org/whl/cpu/torch-0.4.1.post2-cp310-cp310-linux_x86_64.whl\u001b[0m\u001b[31m\n",
            "\u001b[0m"
          ]
        }
      ]
    },
    {
      "cell_type": "code",
      "metadata": {
        "ExecuteTime": {
          "end_time": "2017-11-24T22:39:50.314578Z",
          "start_time": "2017-11-24T22:39:48.904460Z"
        },
        "id": "0Iry5pajl-eu"
      },
      "source": [
        "%matplotlib inline\n",
        "import numpy as np\n",
        "import matplotlib.pyplot as plt\n",
        "\n",
        "import torch\n",
        "from torch.autograd import Variable\n",
        "from torch.utils.data import DataLoader\n",
        "\n",
        "import torchvision\n",
        "from torchvision.datasets import MNIST"
      ],
      "execution_count": 2,
      "outputs": []
    },
    {
      "cell_type": "markdown",
      "metadata": {
        "id": "QqgILyIkl-ey"
      },
      "source": [
        "## Dataset e dataloader"
      ]
    },
    {
      "cell_type": "markdown",
      "metadata": {
        "id": "VAMBUN5ol-ez"
      },
      "source": [
        "### Definição do tamanho do minibatch"
      ]
    },
    {
      "cell_type": "code",
      "metadata": {
        "ExecuteTime": {
          "end_time": "2017-11-24T22:39:50.323379Z",
          "start_time": "2017-11-24T22:39:50.318024Z"
        },
        "id": "1YGmeZtbl-ez"
      },
      "source": [
        "batch_size = 1000"
      ],
      "execution_count": 70,
      "outputs": []
    },
    {
      "cell_type": "markdown",
      "metadata": {
        "id": "3uaaezsvl-e5"
      },
      "source": [
        "### Carregamento, criação dataset e do dataloader"
      ]
    },
    {
      "cell_type": "code",
      "metadata": {
        "id": "7cuFYxtrmT45",
        "colab": {
          "base_uri": "https://localhost:8080/"
        },
        "outputId": "848760c6-26c3-4c51-c395-eb204443245a"
      },
      "source": [
        "! git clone https://github.com/vcasadei/MNIST.git"
      ],
      "execution_count": 71,
      "outputs": [
        {
          "output_type": "stream",
          "name": "stdout",
          "text": [
            "fatal: destination path 'MNIST' already exists and is not an empty directory.\n"
          ]
        }
      ]
    },
    {
      "cell_type": "code",
      "metadata": {
        "ExecuteTime": {
          "end_time": "2017-11-24T22:39:50.400325Z",
          "start_time": "2017-11-24T22:39:50.326019Z"
        },
        "id": "TRXgajEXl-e6",
        "colab": {
          "base_uri": "https://localhost:8080/"
        },
        "outputId": "3e817928-f134-4697-9a8e-75eae1f584e3"
      },
      "source": [
        "dataset_dir = 'MNIST/'\n",
        "\n",
        "dataset_train = MNIST(dataset_dir, train=True, download=True,\n",
        "                      transform=torchvision.transforms.ToTensor())\n",
        "\n",
        "loader_train = DataLoader(dataset_train, batch_size=batch_size, shuffle=True)\n",
        "\n",
        "print('Número de minibatches de trenamento:', len(loader_train))\n",
        "\n",
        "x_train, y_train = next(iter(loader_train))\n",
        "print(\"\\nDimensões dos dados de um minibatch:\", x_train.size())\n",
        "print(\"Valores mínimo e máximo dos pixels: \", torch.min(x_train), torch.max(x_train))\n",
        "print(\"Tipo dos dados das imagens:         \", type(x_train))\n",
        "print(\"Tipo das classes das imagens:       \", type(y_train))"
      ],
      "execution_count": 72,
      "outputs": [
        {
          "output_type": "stream",
          "name": "stdout",
          "text": [
            "Número de minibatches de trenamento: 60\n",
            "\n",
            "Dimensões dos dados de um minibatch: torch.Size([1000, 1, 28, 28])\n",
            "Valores mínimo e máximo dos pixels:  tensor(0.) tensor(1.)\n",
            "Tipo dos dados das imagens:          <class 'torch.Tensor'>\n",
            "Tipo das classes das imagens:        <class 'torch.Tensor'>\n"
          ]
        }
      ]
    },
    {
      "cell_type": "markdown",
      "metadata": {
        "id": "Jalws0jHl-fB"
      },
      "source": [
        "### Usando apenas 1000 amostras do MNIST\n",
        "\n",
        "Neste exemplo utilizaremos 1000 amostras de treinamento."
      ]
    },
    {
      "cell_type": "code",
      "metadata": {
        "ExecuteTime": {
          "end_time": "2017-11-24T22:39:50.414117Z",
          "start_time": "2017-11-24T22:39:50.402687Z"
        },
        "id": "TnFMMGDKl-fC",
        "colab": {
          "base_uri": "https://localhost:8080/"
        },
        "outputId": "8eac610f-65f1-4762-936b-9cc3e56190a2"
      },
      "source": [
        "if False:\n",
        "    n_samples_train = 1000\n",
        "\n",
        "    dataset_train.train_data = dataset_train.train_data[:n_samples_train]\n",
        "    dataset_train.train_labels = dataset_train.train_labels[:n_samples_train]\n",
        "\n",
        "print('Número de minibatches de trenamento:', len(loader_train))\n",
        "n_batches_train = len(loader_train)\n",
        "total_samples = dataset_train.train_data.size(0)"
      ],
      "execution_count": 73,
      "outputs": [
        {
          "output_type": "stream",
          "name": "stdout",
          "text": [
            "Número de minibatches de trenamento: 60\n"
          ]
        }
      ]
    },
    {
      "cell_type": "markdown",
      "metadata": {
        "id": "dz6ke_hfl-fF"
      },
      "source": [
        "## Modelo"
      ]
    },
    {
      "cell_type": "code",
      "metadata": {
        "ExecuteTime": {
          "end_time": "2017-11-24T22:39:50.422994Z",
          "start_time": "2017-11-24T22:39:50.416568Z"
        },
        "id": "8iCWX43fl-fG"
      },
      "source": [
        "model = torch.nn.Linear(28*28, 10)\n"
      ],
      "execution_count": 74,
      "outputs": []
    },
    {
      "cell_type": "code",
      "metadata": {
        "id": "GrIFjo18dZ_L",
        "colab": {
          "base_uri": "https://localhost:8080/"
        },
        "outputId": "12af561f-4308-4f15-f1b6-59105be39f01"
      },
      "source": [
        "x = torch.ones(28*28).reshape(1, 784)\n",
        "print(x.shape)\n",
        "predict = model(x)\n",
        "predict"
      ],
      "execution_count": 75,
      "outputs": [
        {
          "output_type": "stream",
          "name": "stdout",
          "text": [
            "torch.Size([1, 784])\n"
          ]
        },
        {
          "output_type": "execute_result",
          "data": {
            "text/plain": [
              "tensor([[-0.6022, -0.7682, -0.0587, -0.2184, -0.2332, -0.1475,  0.2915, -0.7081,\n",
              "          0.1519, -0.1392]], grad_fn=<AddmmBackward0>)"
            ]
          },
          "metadata": {},
          "execution_count": 75
        }
      ]
    },
    {
      "cell_type": "markdown",
      "metadata": {
        "id": "kVDFEZBql-fJ"
      },
      "source": [
        "## Treinamento"
      ]
    },
    {
      "cell_type": "markdown",
      "metadata": {
        "id": "OUAeuSK6l-fJ"
      },
      "source": [
        "### Inicialização dos parâmetros"
      ]
    },
    {
      "cell_type": "code",
      "metadata": {
        "ExecuteTime": {
          "end_time": "2017-11-24T22:39:50.433321Z",
          "start_time": "2017-11-24T22:39:50.426167Z"
        },
        "id": "XT5_fSiQl-fK"
      },
      "source": [
        "n_epochs = 5\n",
        "learningRate = 0.5\n",
        "\n",
        "# Utilizaremos CrossEntropyLoss como função de perda\n",
        "criterion = torch.nn.CrossEntropyLoss()\n",
        "\n",
        "# Gradiente descendente\n",
        "optimizer = torch.optim.SGD(model.parameters(), lr=learningRate)"
      ],
      "execution_count": 76,
      "outputs": []
    },
    {
      "cell_type": "markdown",
      "metadata": {
        "id": "-OM9OWI6l-fN"
      },
      "source": [
        "### Laço de treinamento dos parâmetros"
      ]
    },
    {
      "cell_type": "code",
      "metadata": {
        "ExecuteTime": {
          "end_time": "2017-11-24T22:39:50.984972Z",
          "start_time": "2017-11-24T22:39:50.435673Z"
        },
        "id": "JvNVUUFTl-fQ",
        "colab": {
          "base_uri": "https://localhost:8080/"
        },
        "outputId": "73560042-c5cd-497c-fa12-f4d12d74da8b"
      },
      "source": [
        "epochs = []\n",
        "losses = []\n",
        "\n",
        "total_trained_samples = 0\n",
        "for i in range(n_epochs):\n",
        "    for k,(x_train, y_train) in enumerate(loader_train):\n",
        "        # Transforma a entrada para uma dimensão\n",
        "        inputs = Variable(x_train.view(-1, 28 * 28))\n",
        "        # predict da rede\n",
        "        outputs = model(inputs)\n",
        "\n",
        "        # calcula a perda\n",
        "        loss = criterion(outputs, Variable(y_train))\n",
        "\n",
        "        # zero, backpropagation, ajusta parâmetros pelo gradiente descendente\n",
        "        optimizer.zero_grad()\n",
        "        loss.backward()\n",
        "        optimizer.step()\n",
        "\n",
        "        total_trained_samples += x_train.size(0)\n",
        "        epochs.append(total_trained_samples / total_samples)\n",
        "        losses.append(loss.item())\n",
        "\n",
        "        print(f'Época: {i}/{n_epochs-1} batch: {(k+1)}/{len(loader_train)}')"
      ],
      "execution_count": 77,
      "outputs": [
        {
          "output_type": "stream",
          "name": "stdout",
          "text": [
            "Época: 0/4 batch: 1/60\n",
            "Época: 0/4 batch: 2/60\n",
            "Época: 0/4 batch: 3/60\n",
            "Época: 0/4 batch: 4/60\n",
            "Época: 0/4 batch: 5/60\n",
            "Época: 0/4 batch: 6/60\n",
            "Época: 0/4 batch: 7/60\n",
            "Época: 0/4 batch: 8/60\n",
            "Época: 0/4 batch: 9/60\n",
            "Época: 0/4 batch: 10/60\n",
            "Época: 0/4 batch: 11/60\n",
            "Época: 0/4 batch: 12/60\n",
            "Época: 0/4 batch: 13/60\n",
            "Época: 0/4 batch: 14/60\n",
            "Época: 0/4 batch: 15/60\n",
            "Época: 0/4 batch: 16/60\n",
            "Época: 0/4 batch: 17/60\n",
            "Época: 0/4 batch: 18/60\n",
            "Época: 0/4 batch: 19/60\n",
            "Época: 0/4 batch: 20/60\n",
            "Época: 0/4 batch: 21/60\n",
            "Época: 0/4 batch: 22/60\n",
            "Época: 0/4 batch: 23/60\n",
            "Época: 0/4 batch: 24/60\n",
            "Época: 0/4 batch: 25/60\n",
            "Época: 0/4 batch: 26/60\n",
            "Época: 0/4 batch: 27/60\n",
            "Época: 0/4 batch: 28/60\n",
            "Época: 0/4 batch: 29/60\n",
            "Época: 0/4 batch: 30/60\n",
            "Época: 0/4 batch: 31/60\n",
            "Época: 0/4 batch: 32/60\n",
            "Época: 0/4 batch: 33/60\n",
            "Época: 0/4 batch: 34/60\n",
            "Época: 0/4 batch: 35/60\n",
            "Época: 0/4 batch: 36/60\n",
            "Época: 0/4 batch: 37/60\n",
            "Época: 0/4 batch: 38/60\n",
            "Época: 0/4 batch: 39/60\n",
            "Época: 0/4 batch: 40/60\n",
            "Época: 0/4 batch: 41/60\n",
            "Época: 0/4 batch: 42/60\n",
            "Época: 0/4 batch: 43/60\n",
            "Época: 0/4 batch: 44/60\n",
            "Época: 0/4 batch: 45/60\n",
            "Época: 0/4 batch: 46/60\n",
            "Época: 0/4 batch: 47/60\n",
            "Época: 0/4 batch: 48/60\n",
            "Época: 0/4 batch: 49/60\n",
            "Época: 0/4 batch: 50/60\n",
            "Época: 0/4 batch: 51/60\n",
            "Época: 0/4 batch: 52/60\n",
            "Época: 0/4 batch: 53/60\n",
            "Época: 0/4 batch: 54/60\n",
            "Época: 0/4 batch: 55/60\n",
            "Época: 0/4 batch: 56/60\n",
            "Época: 0/4 batch: 57/60\n",
            "Época: 0/4 batch: 58/60\n",
            "Época: 0/4 batch: 59/60\n",
            "Época: 0/4 batch: 60/60\n",
            "Época: 1/4 batch: 1/60\n",
            "Época: 1/4 batch: 2/60\n",
            "Época: 1/4 batch: 3/60\n",
            "Época: 1/4 batch: 4/60\n",
            "Época: 1/4 batch: 5/60\n",
            "Época: 1/4 batch: 6/60\n",
            "Época: 1/4 batch: 7/60\n",
            "Época: 1/4 batch: 8/60\n",
            "Época: 1/4 batch: 9/60\n",
            "Época: 1/4 batch: 10/60\n",
            "Época: 1/4 batch: 11/60\n",
            "Época: 1/4 batch: 12/60\n",
            "Época: 1/4 batch: 13/60\n",
            "Época: 1/4 batch: 14/60\n",
            "Época: 1/4 batch: 15/60\n",
            "Época: 1/4 batch: 16/60\n",
            "Época: 1/4 batch: 17/60\n",
            "Época: 1/4 batch: 18/60\n",
            "Época: 1/4 batch: 19/60\n",
            "Época: 1/4 batch: 20/60\n",
            "Época: 1/4 batch: 21/60\n",
            "Época: 1/4 batch: 22/60\n",
            "Época: 1/4 batch: 23/60\n",
            "Época: 1/4 batch: 24/60\n",
            "Época: 1/4 batch: 25/60\n",
            "Época: 1/4 batch: 26/60\n",
            "Época: 1/4 batch: 27/60\n",
            "Época: 1/4 batch: 28/60\n",
            "Época: 1/4 batch: 29/60\n",
            "Época: 1/4 batch: 30/60\n",
            "Época: 1/4 batch: 31/60\n",
            "Época: 1/4 batch: 32/60\n",
            "Época: 1/4 batch: 33/60\n",
            "Época: 1/4 batch: 34/60\n",
            "Época: 1/4 batch: 35/60\n",
            "Época: 1/4 batch: 36/60\n",
            "Época: 1/4 batch: 37/60\n",
            "Época: 1/4 batch: 38/60\n",
            "Época: 1/4 batch: 39/60\n",
            "Época: 1/4 batch: 40/60\n",
            "Época: 1/4 batch: 41/60\n",
            "Época: 1/4 batch: 42/60\n",
            "Época: 1/4 batch: 43/60\n",
            "Época: 1/4 batch: 44/60\n",
            "Época: 1/4 batch: 45/60\n",
            "Época: 1/4 batch: 46/60\n",
            "Época: 1/4 batch: 47/60\n",
            "Época: 1/4 batch: 48/60\n",
            "Época: 1/4 batch: 49/60\n",
            "Época: 1/4 batch: 50/60\n",
            "Época: 1/4 batch: 51/60\n",
            "Época: 1/4 batch: 52/60\n",
            "Época: 1/4 batch: 53/60\n",
            "Época: 1/4 batch: 54/60\n",
            "Época: 1/4 batch: 55/60\n",
            "Época: 1/4 batch: 56/60\n",
            "Época: 1/4 batch: 57/60\n",
            "Época: 1/4 batch: 58/60\n",
            "Época: 1/4 batch: 59/60\n",
            "Época: 1/4 batch: 60/60\n",
            "Época: 2/4 batch: 1/60\n",
            "Época: 2/4 batch: 2/60\n",
            "Época: 2/4 batch: 3/60\n",
            "Época: 2/4 batch: 4/60\n",
            "Época: 2/4 batch: 5/60\n",
            "Época: 2/4 batch: 6/60\n",
            "Época: 2/4 batch: 7/60\n",
            "Época: 2/4 batch: 8/60\n",
            "Época: 2/4 batch: 9/60\n",
            "Época: 2/4 batch: 10/60\n",
            "Época: 2/4 batch: 11/60\n",
            "Época: 2/4 batch: 12/60\n",
            "Época: 2/4 batch: 13/60\n",
            "Época: 2/4 batch: 14/60\n",
            "Época: 2/4 batch: 15/60\n",
            "Época: 2/4 batch: 16/60\n",
            "Época: 2/4 batch: 17/60\n",
            "Época: 2/4 batch: 18/60\n",
            "Época: 2/4 batch: 19/60\n",
            "Época: 2/4 batch: 20/60\n",
            "Época: 2/4 batch: 21/60\n",
            "Época: 2/4 batch: 22/60\n",
            "Época: 2/4 batch: 23/60\n",
            "Época: 2/4 batch: 24/60\n",
            "Época: 2/4 batch: 25/60\n",
            "Época: 2/4 batch: 26/60\n",
            "Época: 2/4 batch: 27/60\n",
            "Época: 2/4 batch: 28/60\n",
            "Época: 2/4 batch: 29/60\n",
            "Época: 2/4 batch: 30/60\n",
            "Época: 2/4 batch: 31/60\n",
            "Época: 2/4 batch: 32/60\n",
            "Época: 2/4 batch: 33/60\n",
            "Época: 2/4 batch: 34/60\n",
            "Época: 2/4 batch: 35/60\n",
            "Época: 2/4 batch: 36/60\n",
            "Época: 2/4 batch: 37/60\n",
            "Época: 2/4 batch: 38/60\n",
            "Época: 2/4 batch: 39/60\n",
            "Época: 2/4 batch: 40/60\n",
            "Época: 2/4 batch: 41/60\n",
            "Época: 2/4 batch: 42/60\n",
            "Época: 2/4 batch: 43/60\n",
            "Época: 2/4 batch: 44/60\n",
            "Época: 2/4 batch: 45/60\n",
            "Época: 2/4 batch: 46/60\n",
            "Época: 2/4 batch: 47/60\n",
            "Época: 2/4 batch: 48/60\n",
            "Época: 2/4 batch: 49/60\n",
            "Época: 2/4 batch: 50/60\n",
            "Época: 2/4 batch: 51/60\n",
            "Época: 2/4 batch: 52/60\n",
            "Época: 2/4 batch: 53/60\n",
            "Época: 2/4 batch: 54/60\n",
            "Época: 2/4 batch: 55/60\n",
            "Época: 2/4 batch: 56/60\n",
            "Época: 2/4 batch: 57/60\n",
            "Época: 2/4 batch: 58/60\n",
            "Época: 2/4 batch: 59/60\n",
            "Época: 2/4 batch: 60/60\n",
            "Época: 3/4 batch: 1/60\n",
            "Época: 3/4 batch: 2/60\n",
            "Época: 3/4 batch: 3/60\n",
            "Época: 3/4 batch: 4/60\n",
            "Época: 3/4 batch: 5/60\n",
            "Época: 3/4 batch: 6/60\n",
            "Época: 3/4 batch: 7/60\n",
            "Época: 3/4 batch: 8/60\n",
            "Época: 3/4 batch: 9/60\n",
            "Época: 3/4 batch: 10/60\n",
            "Época: 3/4 batch: 11/60\n",
            "Época: 3/4 batch: 12/60\n",
            "Época: 3/4 batch: 13/60\n",
            "Época: 3/4 batch: 14/60\n",
            "Época: 3/4 batch: 15/60\n",
            "Época: 3/4 batch: 16/60\n",
            "Época: 3/4 batch: 17/60\n",
            "Época: 3/4 batch: 18/60\n",
            "Época: 3/4 batch: 19/60\n",
            "Época: 3/4 batch: 20/60\n",
            "Época: 3/4 batch: 21/60\n",
            "Época: 3/4 batch: 22/60\n",
            "Época: 3/4 batch: 23/60\n",
            "Época: 3/4 batch: 24/60\n",
            "Época: 3/4 batch: 25/60\n",
            "Época: 3/4 batch: 26/60\n",
            "Época: 3/4 batch: 27/60\n",
            "Época: 3/4 batch: 28/60\n",
            "Época: 3/4 batch: 29/60\n",
            "Época: 3/4 batch: 30/60\n",
            "Época: 3/4 batch: 31/60\n",
            "Época: 3/4 batch: 32/60\n",
            "Época: 3/4 batch: 33/60\n",
            "Época: 3/4 batch: 34/60\n",
            "Época: 3/4 batch: 35/60\n",
            "Época: 3/4 batch: 36/60\n",
            "Época: 3/4 batch: 37/60\n",
            "Época: 3/4 batch: 38/60\n",
            "Época: 3/4 batch: 39/60\n",
            "Época: 3/4 batch: 40/60\n",
            "Época: 3/4 batch: 41/60\n",
            "Época: 3/4 batch: 42/60\n",
            "Época: 3/4 batch: 43/60\n",
            "Época: 3/4 batch: 44/60\n",
            "Época: 3/4 batch: 45/60\n",
            "Época: 3/4 batch: 46/60\n",
            "Época: 3/4 batch: 47/60\n",
            "Época: 3/4 batch: 48/60\n",
            "Época: 3/4 batch: 49/60\n",
            "Época: 3/4 batch: 50/60\n",
            "Época: 3/4 batch: 51/60\n",
            "Época: 3/4 batch: 52/60\n",
            "Época: 3/4 batch: 53/60\n",
            "Época: 3/4 batch: 54/60\n",
            "Época: 3/4 batch: 55/60\n",
            "Época: 3/4 batch: 56/60\n",
            "Época: 3/4 batch: 57/60\n",
            "Época: 3/4 batch: 58/60\n",
            "Época: 3/4 batch: 59/60\n",
            "Época: 3/4 batch: 60/60\n",
            "Época: 4/4 batch: 1/60\n",
            "Época: 4/4 batch: 2/60\n",
            "Época: 4/4 batch: 3/60\n",
            "Época: 4/4 batch: 4/60\n",
            "Época: 4/4 batch: 5/60\n",
            "Época: 4/4 batch: 6/60\n",
            "Época: 4/4 batch: 7/60\n",
            "Época: 4/4 batch: 8/60\n",
            "Época: 4/4 batch: 9/60\n",
            "Época: 4/4 batch: 10/60\n",
            "Época: 4/4 batch: 11/60\n",
            "Época: 4/4 batch: 12/60\n",
            "Época: 4/4 batch: 13/60\n",
            "Época: 4/4 batch: 14/60\n",
            "Época: 4/4 batch: 15/60\n",
            "Época: 4/4 batch: 16/60\n",
            "Época: 4/4 batch: 17/60\n",
            "Época: 4/4 batch: 18/60\n",
            "Época: 4/4 batch: 19/60\n",
            "Época: 4/4 batch: 20/60\n",
            "Época: 4/4 batch: 21/60\n",
            "Época: 4/4 batch: 22/60\n",
            "Época: 4/4 batch: 23/60\n",
            "Época: 4/4 batch: 24/60\n",
            "Época: 4/4 batch: 25/60\n",
            "Época: 4/4 batch: 26/60\n",
            "Época: 4/4 batch: 27/60\n",
            "Época: 4/4 batch: 28/60\n",
            "Época: 4/4 batch: 29/60\n",
            "Época: 4/4 batch: 30/60\n",
            "Época: 4/4 batch: 31/60\n",
            "Época: 4/4 batch: 32/60\n",
            "Época: 4/4 batch: 33/60\n",
            "Época: 4/4 batch: 34/60\n",
            "Época: 4/4 batch: 35/60\n",
            "Época: 4/4 batch: 36/60\n",
            "Época: 4/4 batch: 37/60\n",
            "Época: 4/4 batch: 38/60\n",
            "Época: 4/4 batch: 39/60\n",
            "Época: 4/4 batch: 40/60\n",
            "Época: 4/4 batch: 41/60\n",
            "Época: 4/4 batch: 42/60\n",
            "Época: 4/4 batch: 43/60\n",
            "Época: 4/4 batch: 44/60\n",
            "Época: 4/4 batch: 45/60\n",
            "Época: 4/4 batch: 46/60\n",
            "Época: 4/4 batch: 47/60\n",
            "Época: 4/4 batch: 48/60\n",
            "Época: 4/4 batch: 49/60\n",
            "Época: 4/4 batch: 50/60\n",
            "Época: 4/4 batch: 51/60\n",
            "Época: 4/4 batch: 52/60\n",
            "Época: 4/4 batch: 53/60\n",
            "Época: 4/4 batch: 54/60\n",
            "Época: 4/4 batch: 55/60\n",
            "Época: 4/4 batch: 56/60\n",
            "Época: 4/4 batch: 57/60\n",
            "Época: 4/4 batch: 58/60\n",
            "Época: 4/4 batch: 59/60\n",
            "Época: 4/4 batch: 60/60\n"
          ]
        }
      ]
    },
    {
      "cell_type": "code",
      "metadata": {
        "ExecuteTime": {
          "end_time": "2017-11-24T22:39:50.992302Z",
          "start_time": "2017-11-24T22:39:50.987284Z"
        },
        "id": "aYO4bgVwl-fT",
        "colab": {
          "base_uri": "https://localhost:8080/"
        },
        "outputId": "8f536dfa-7bab-4f61-ed96-5ac9f84aa9de"
      },
      "source": [
        "print('Final loss:', loss.item())"
      ],
      "execution_count": 78,
      "outputs": [
        {
          "output_type": "stream",
          "name": "stdout",
          "text": [
            "Final loss: 0.2867918908596039\n"
          ]
        }
      ]
    },
    {
      "cell_type": "markdown",
      "metadata": {
        "id": "XEhPdkjAl-fX"
      },
      "source": [
        "### Visualizando gráfico de perda durante o treinamento"
      ]
    },
    {
      "cell_type": "code",
      "metadata": {
        "ExecuteTime": {
          "end_time": "2017-11-24T22:39:51.244869Z",
          "start_time": "2017-11-24T22:39:50.995188Z"
        },
        "id": "_fSYP_KXl-fY",
        "colab": {
          "base_uri": "https://localhost:8080/",
          "height": 467
        },
        "outputId": "f0ff5934-3374-4b1b-88dd-df09ab6f6597"
      },
      "source": [
        "plt.plot(epochs, losses)\n",
        "plt.xlabel('época')"
      ],
      "execution_count": 79,
      "outputs": [
        {
          "output_type": "execute_result",
          "data": {
            "text/plain": [
              "Text(0.5, 0, 'época')"
            ]
          },
          "metadata": {},
          "execution_count": 79
        },
        {
          "output_type": "display_data",
          "data": {
            "text/plain": [
              "<Figure size 640x480 with 1 Axes>"
            ],
            "image/png": "[encoded data removed]"
          },
          "metadata": {}
        }
      ]
    },
    {
      "cell_type": "markdown",
      "metadata": {
        "id": "eNyGHxAtl-fc"
      },
      "source": [
        "### Visualização usual da perda, somente no final de cada minibatch"
      ]
    },
    {
      "cell_type": "code",
      "metadata": {
        "ExecuteTime": {
          "end_time": "2017-11-24T22:39:51.498640Z",
          "start_time": "2017-11-24T22:39:51.246714Z"
        },
        "id": "e2J2aZZVl-fd",
        "colab": {
          "base_uri": "https://localhost:8080/",
          "height": 467
        },
        "outputId": "f4fe0f6d-30bb-4b20-f10d-bf8d927e7ab8"
      },
      "source": [
        "plt.plot(epochs[:5 * n_batches_train +1:n_batches_train], losses[:5 * n_batches_train+1:n_batches_train])\n",
        "plt.xlabel('época')"
      ],
      "execution_count": 80,
      "outputs": [
        {
          "output_type": "execute_result",
          "data": {
            "text/plain": [
              "Text(0.5, 0, 'época')"
            ]
          },
          "metadata": {},
          "execution_count": 80
        },
        {
          "output_type": "display_data",
          "data": {
            "text/plain": [
              "<Figure size 640x480 with 1 Axes>"
            ],
            "image/png": "[encoded data removed]"
          },
          "metadata": {}
        }
      ]
    },
    {
      "cell_type": "markdown",
      "metadata": {
        "id": "eHLCXNLml-fg"
      },
      "source": [
        "# Atividades"
      ]
    },
    {
      "cell_type": "markdown",
      "metadata": {
        "id": "ZCs38MOml-fh"
      },
      "source": [
        "## Perguntas"
      ]
    },
    {
      "cell_type": "markdown",
      "metadata": {
        "id": "Ffg58gb7l-fi"
      },
      "source": [
        "1. Qual é o tamanho do mini-batch? R. 1000\n",
        "2. Em uma época, quantos mini-batches existem? R. 60\n",
        "3. Qual é a definição de época? R. Ela é a iteração sobre todos os dados de treinamento para o treinamento da rede."
      ]
    },
    {
      "cell_type": "markdown",
      "metadata": {
        "id": "DourBpfrl-fl"
      },
      "source": [
        "## Exercícios\n"
      ]
    },
    {
      "cell_type": "markdown",
      "metadata": {
        "id": "Vjh3AaNpl-fn"
      },
      "source": [
        "1. Coloque um print no final de cada minibatch, no mesmo estilo do print do final de época, no seguinte estilo:\n",
        "    - Época: 1/4, batch: 3/10\n",
        "2. Altere o tamanho de minibatch (batch_size) algumas vezes, refaça o treinamento, e compare no gráfico abaixo a queda da perda para cada tamanho de minibatch.\n",
        "    \n",
        "    R. Foram testados os seguintes cenários batch size de 100, 600 e 1000. Analisando os gráficos, parece que quanto maior o batch size, mais rápida é a queda da perda em função da época. Entretanto, a perda acaba variando mais dentro de cada época."
      ]
    },
    {
      "cell_type": "markdown",
      "metadata": {
        "id": "Dite8MBJl-fn"
      },
      "source": [
        "## Conclusões sobre os experimentos deste notebook\n"
      ]
    },
    {
      "cell_type": "markdown",
      "metadata": {
        "id": "tbMsRflll-fp"
      },
      "source": [
        "1. O mini-batch contribui com a rapidez da convergência, num mesmo número de épocas\n",
        "2. Os resultado pode ser mais ruidoso\n"
      ]
    }
  ]
}