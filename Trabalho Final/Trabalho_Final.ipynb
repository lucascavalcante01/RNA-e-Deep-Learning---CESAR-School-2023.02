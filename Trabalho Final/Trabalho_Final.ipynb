{
  "nbformat": 4,
  "nbformat_minor": 0,
  "metadata": {
    "colab": {
      "provenance": []
    },
    "kernelspec": {
      "name": "python3",
      "display_name": "Python 3"
    },
    "language_info": {
      "name": "python"
    }
  },
  "cells": [
    {
      "cell_type": "markdown",
      "source": [
        "# RNA e Deeplearning\n",
        "\n",
        "Nome: Lucas Cavalcante Soares\n",
        "\n",
        "e-mail: lcs4@cesar.school\n",
        "\n",
        "Dataset:https://www.kaggle.com/datasets/muratkokludataset/rice-image-dataset"
      ],
      "metadata": {
        "id": "0n_iXjndpe7J"
      }
    },
    {
      "cell_type": "markdown",
      "source": [
        "## Importações"
      ],
      "metadata": {
        "id": "7oZR4vqNp--R"
      }
    },
    {
      "cell_type": "markdown",
      "source": [
        "### Bibliotecas"
      ],
      "metadata": {
        "id": "-hA6Vc2OqCNb"
      }
    },
    {
      "cell_type": "code",
      "execution_count": 67,
      "metadata": {
        "id": "bv5RbJwEM6L3"
      },
      "outputs": [],
      "source": [
        "import torch\n",
        "import torch.nn as nn\n",
        "import torch.nn.functional as F\n",
        "import torch.optim as optim\n",
        "import matplotlib.pyplot as plt\n",
        "from torchvision import datasets, transforms\n",
        "from torch.optim.lr_scheduler import StepLR\n",
        "from google.colab import drive\n",
        "import os\n",
        "import cv2\n",
        "import random\n",
        "from tqdm import tqdm\n",
        "from google.colab.patches import cv2_imshow\n",
        "import numpy as np\n",
        "from concurrent.futures import ThreadPoolExecutor\n",
        "from torch.utils.data import TensorDataset, random_split, DataLoader"
      ]
    },
    {
      "cell_type": "code",
      "source": [
        "!pip install opencv-python"
      ],
      "metadata": {
        "colab": {
          "base_uri": "https://localhost:8080/"
        },
        "id": "yt4RqoDyR9R5",
        "outputId": "3d1e0c9b-161e-40d2-baed-a558c4d0843d"
      },
      "execution_count": 17,
      "outputs": [
        {
          "output_type": "stream",
          "name": "stdout",
          "text": [
            "Requirement already satisfied: opencv-python in /usr/local/lib/python3.10/dist-packages (4.8.0.76)\n",
            "Requirement already satisfied: numpy>=1.21.2 in /usr/local/lib/python3.10/dist-packages (from opencv-python) (1.25.2)\n"
          ]
        }
      ]
    },
    {
      "cell_type": "markdown",
      "source": [
        "### Dados"
      ],
      "metadata": {
        "id": "yLOB5n9kqLv9"
      }
    },
    {
      "cell_type": "code",
      "source": [
        "drive.mount('/content/drive')"
      ],
      "metadata": {
        "colab": {
          "base_uri": "https://localhost:8080/"
        },
        "id": "3FZSfBrMNIkD",
        "outputId": "d51433d7-2fa7-4616-d76d-993e10f09e8c"
      },
      "execution_count": 3,
      "outputs": [
        {
          "output_type": "stream",
          "name": "stdout",
          "text": [
            "Mounted at /content/drive\n"
          ]
        }
      ]
    },
    {
      "cell_type": "code",
      "source": [
        "path_to_images  = '/content/drive/MyDrive/Rice_Image_Dataset'"
      ],
      "metadata": {
        "id": "qI2Ydq1MO5DP"
      },
      "execution_count": 4,
      "outputs": []
    },
    {
      "cell_type": "code",
      "source": [
        "subfolders = [f.path for f in os.scandir(path_to_images) if f.is_dir()]"
      ],
      "metadata": {
        "id": "MmHywod2PAAK"
      },
      "execution_count": 18,
      "outputs": []
    },
    {
      "cell_type": "code",
      "source": [
        "subfolders = subfolders[:5]\n",
        "subfolders"
      ],
      "metadata": {
        "colab": {
          "base_uri": "https://localhost:8080/"
        },
        "id": "n9pZLZRqPmf1",
        "outputId": "b20d17c1-7e91-4075-cea4-42dfa7abb9e3"
      },
      "execution_count": 19,
      "outputs": [
        {
          "output_type": "execute_result",
          "data": {
            "text/plain": [
              "['/content/drive/MyDrive/Rice_Image_Dataset/Basmati',\n",
              " '/content/drive/MyDrive/Rice_Image_Dataset/Arborio',\n",
              " '/content/drive/MyDrive/Rice_Image_Dataset/Jasmine',\n",
              " '/content/drive/MyDrive/Rice_Image_Dataset/Ipsala',\n",
              " '/content/drive/MyDrive/Rice_Image_Dataset/Karacadag']"
            ]
          },
          "metadata": {},
          "execution_count": 19
        }
      ]
    },
    {
      "cell_type": "code",
      "source": [
        "imgh = 64\n",
        "imgw = 64"
      ],
      "metadata": {
        "id": "9zwNMPDGQYMK"
      },
      "execution_count": 20,
      "outputs": []
    },
    {
      "cell_type": "code",
      "source": [
        "imagens = []\n",
        "labels = []\n",
        "\n",
        "num_images = 1000 # Quantidade de imagens por tipo de arroz"
      ],
      "metadata": {
        "id": "fsO6SJxXQeS7"
      },
      "execution_count": 68,
      "outputs": []
    },
    {
      "cell_type": "code",
      "source": [
        "# Criando transformados para os dados.\n",
        "transform = transforms.Compose([\n",
        "    transforms.ToPILImage(),\n",
        "    transforms.Grayscale(num_output_channels=1),  # Convertendo para escala de cinza\n",
        "    transforms.Resize((imgh, imgw)),\n",
        "    transforms.ToTensor(),\n",
        "])\n",
        "\n",
        "# Função para processar cada imagem\n",
        "def process_image(path_image):\n",
        "    image = cv2.imread(path_image)\n",
        "    image_tensor = transform(image)\n",
        "    return image_tensor, os.path.basename(path_image)\n",
        "\n",
        "# Processamento em lote e paralelo\n",
        "def process_images_in_batch(file_paths):\n",
        "    with ThreadPoolExecutor(max_workers=os.cpu_count()) as executor:\n",
        "        results = list(executor.map(process_image, file_paths))\n",
        "    return results"
      ],
      "metadata": {
        "id": "rO2P7wRNUaWd"
      },
      "execution_count": 69,
      "outputs": []
    },
    {
      "cell_type": "code",
      "source": [
        "# Pré-carregar os caminhos dos arquivos\n",
        "file_paths = []\n",
        "for folder in subfolders:\n",
        "    files = [os.path.join(folder, f) for f in os.listdir(folder) if os.path.isfile(os.path.join(folder, f))]\n",
        "    if len(files) > num_images:\n",
        "        files = random.sample(files, num_images)\n",
        "    file_paths.extend(files)\n",
        "\n",
        "# Dividir os caminhos dos arquivos em lotes e processá-los\n",
        "batch_size = 20  # Tamanho do lote\n",
        "for i in range(0, len(file_paths), batch_size):\n",
        "    batch_paths = file_paths[i:i+batch_size]\n",
        "    batch_results = process_images_in_batch(batch_paths)\n",
        "    for image_tensor, label in batch_results:\n",
        "        imagens.append(image_tensor)\n",
        "        labels.append(label)"
      ],
      "metadata": {
        "id": "A6Jjs4pokFDR"
      },
      "execution_count": 70,
      "outputs": []
    },
    {
      "cell_type": "code",
      "source": [
        "image_np = image_tensor.squeeze().numpy()  # Removendo dimensões de tamanho 1 e convertendo para NumPy\n",
        "if image_np.max() <= 1:\n",
        "    image_np = image_np * 255\n",
        "\n",
        "# Usando plt.imshow para exibir a imagem\n",
        "plt.imshow(image_np, cmap='gray')  # Especificando o mapa de cores para escala de cinza\n",
        "plt.show()  # Exibindo a imagem\n"
      ],
      "metadata": {
        "id": "EendBBP4oKn0",
        "colab": {
          "base_uri": "https://localhost:8080/",
          "height": 432
        },
        "outputId": "58b49afd-6381-4f18-e3d5-d904ae693a57"
      },
      "execution_count": 71,
      "outputs": [
        {
          "output_type": "display_data",
          "data": {
            "text/plain": [
              "<Figure size 640x480 with 1 Axes>"
            ],
            "image/png": "[encoded data removed]"
          },
          "metadata": {}
        }
      ]
    },
    {
      "cell_type": "markdown",
      "source": [
        "### Tratamento dos Dados"
      ],
      "metadata": {
        "id": "sq0di_NFBRj9"
      }
    },
    {
      "cell_type": "code",
      "source": [
        "# Mapeamento dos tipos de arroz para categorias\n",
        "tipo_arroz_map = {\n",
        "    'Arborio': 0,\n",
        "    'basmati': 1,\n",
        "    'Ipsala': 2,\n",
        "    'Jasmine': 3,\n",
        "    'Karacadag': 4\n",
        "}\n",
        "\n",
        "# Criando a lista tipo_arroz\n",
        "tipo_arroz = [tipo_arroz_map[label.split()[0]] for label in labels]\n",
        "labels_tensor = tipo_arroz\n",
        "\n",
        "# Verificando os valores únicos\n",
        "set(labels_tensor)"
      ],
      "metadata": {
        "id": "rFQdGhynppyV",
        "colab": {
          "base_uri": "https://localhost:8080/"
        },
        "outputId": "1d7d3e47-1aec-48a4-99b8-8981729b7368"
      },
      "execution_count": 72,
      "outputs": [
        {
          "output_type": "execute_result",
          "data": {
            "text/plain": [
              "{0, 1, 2, 3, 4}"
            ]
          },
          "metadata": {},
          "execution_count": 72
        }
      ]
    },
    {
      "cell_type": "code",
      "source": [
        "# Usando uma lista de tuplas\n",
        "dataset = [(imagem, rotulo) for imagem, rotulo in zip(imagens, labels_tensor)]\n",
        "\n",
        "labels_tensor = torch.tensor(labels_tensor)\n",
        "imagens_tensor = torch.stack(imagens)\n",
        "\n",
        "torch.save(labels_tensor, 'labels_tensor.pt') # Convertendo em tensor\n",
        "torch.save(imagens_tensor, 'imagens_tensor.pt')\n",
        "\n",
        "dataset = TensorDataset(imagens_tensor, labels_tensor) # Definindo o dataset"
      ],
      "metadata": {
        "id": "yTXRN1oogcqy"
      },
      "execution_count": 73,
      "outputs": []
    },
    {
      "cell_type": "code",
      "source": [
        "# Carregando os tensores salvos\n",
        "# Caso já tenha os arquivos com os tensores, fazemos apenas o carregamento.\n",
        "labels_tensor = torch.load('labels_tensor.pt')\n",
        "imagens_tensor = torch.load('imagens_tensor.pt')"
      ],
      "metadata": {
        "id": "1RcaEsfwsVwU"
      },
      "execution_count": null,
      "outputs": []
    },
    {
      "cell_type": "code",
      "source": [
        "# Definindo o tamanho do conjunto de validação\n",
        "valid_size = int(0.2 * len(dataset))  # 20% para validação\n",
        "train_size = len(dataset) - valid_size  # O restante para treino\n",
        "\n",
        "# Dividindo o dataset\n",
        "train_dataset, valid_dataset = random_split(dataset, [train_size, valid_size])"
      ],
      "metadata": {
        "id": "hNBfOIaBneXw"
      },
      "execution_count": 74,
      "outputs": []
    },
    {
      "cell_type": "markdown",
      "source": [
        "## Criação da Rede"
      ],
      "metadata": {
        "id": "Fn41QDhLoYbp"
      }
    },
    {
      "cell_type": "code",
      "source": [
        "class Net(nn.Module):\n",
        "    def __init__(self):\n",
        "        super(Net, self).__init__()\n",
        "        self.flatten = nn.Flatten()\n",
        "        self.fc1 = nn.Linear(64 * 64, 1024)\n",
        "        self.fc2 = nn.Linear(1024, 512)\n",
        "        self.fc3 = nn.Linear(512, 256)\n",
        "        self.fc4 = nn.Linear(256, 5)\n",
        "\n",
        "    def forward(self, x):\n",
        "        x = self.flatten(x)\n",
        "        x = self.fc1(x)\n",
        "        x = F.relu(x)\n",
        "        x = self.fc2(x)\n",
        "        x = F.relu(x)\n",
        "        x = self.fc3(x)\n",
        "        x = F.relu(x)\n",
        "        x = self.fc4(x)\n",
        "        output = F.log_softmax(x, dim=1)\n",
        "        return output\n",
        "\n",
        "model = Net()"
      ],
      "metadata": {
        "id": "ecdiiAcgoa-E"
      },
      "execution_count": 75,
      "outputs": []
    },
    {
      "cell_type": "markdown",
      "source": [
        "## Processo de treinamento e teste"
      ],
      "metadata": {
        "id": "rJZYpAJuBeHa"
      }
    },
    {
      "cell_type": "code",
      "source": [
        "def train(log_interval, dry_run, model, device, train_loader, optimizer, epoch):\n",
        "    model.train()\n",
        "    running_loss = 0.0\n",
        "    loss_values = []\n",
        "\n",
        "    for batch_idx, (data, target) in enumerate(train_loader):\n",
        "        data, target = data.to(device), target.to(device)\n",
        "        optimizer.zero_grad()\n",
        "        output = model(data)\n",
        "        loss = F.nll_loss(output, target)\n",
        "        loss.backward()\n",
        "        optimizer.step()\n",
        "\n",
        "        running_loss += loss.item()\n",
        "\n",
        "        if batch_idx % log_interval == 0:\n",
        "            print('Train Epoch: {} [{}/{} ({:.0f}%)]\\tLoss: {:.6f}'.format(\n",
        "                epoch, batch_idx * len(data), len(train_loader.dataset),\n",
        "                100. * batch_idx / len(train_loader), loss.item()))\n",
        "            if dry_run:\n",
        "                break\n",
        "\n",
        "    # Calcula a média da perda ao final da época\n",
        "    average_loss = running_loss / len(train_loader)\n",
        "    loss_values.append(average_loss)  # Adiciona à lista de perdas\n",
        "\n",
        "    return loss_values  # Retorna a lista de perdas ao final da função"
      ],
      "metadata": {
        "id": "zYadzaYJo2CO"
      },
      "execution_count": 76,
      "outputs": []
    },
    {
      "cell_type": "code",
      "source": [
        "def test(model, device, test_loader):\n",
        "    model.eval()\n",
        "    test_loss = 0\n",
        "    correct = 0\n",
        "    with torch.no_grad():\n",
        "        for data, target in test_loader:\n",
        "            data, target = data.to(device), target.to(device)\n",
        "            output = model(data)\n",
        "            test_loss += F.nll_loss(output, target, reduction='sum').item()\n",
        "            pred = output.argmax(dim=1, keepdim=True)\n",
        "            correct += pred.eq(target.view_as(pred)).sum().item()\n",
        "\n",
        "    test_loss /= len(test_loader.dataset)\n",
        "    accuracy = 100. * correct / len(test_loader.dataset)\n",
        "\n",
        "    print(f\"\\nTest set: Average loss: {test_loss:.4f}, Accuracy: {correct}/{len(test_loader.dataset)} \"\n",
        "          f\"({accuracy:.0f}%)\")\n",
        "\n",
        "    evaluation = {\n",
        "        'test_loss': test_loss,\n",
        "        'accuracy': accuracy\n",
        "    }\n",
        "    return evaluation"
      ],
      "metadata": {
        "id": "LAzP6j1Eo8xE"
      },
      "execution_count": 77,
      "outputs": []
    },
    {
      "cell_type": "code",
      "source": [
        "use_cuda = torch.cuda.is_available()\n",
        "\n",
        "torch.manual_seed(1111)\n",
        "\n",
        "device = torch.device(\"cuda\" if use_cuda else \"cpu\")\n",
        "\n",
        "train_kwargs = {'batch_size': 50}\n",
        "test_kwargs = {'batch_size': 250}\n",
        "if use_cuda:\n",
        "    cuda_kwargs = {'num_workers': 1,\n",
        "                    'pin_memory': True,\n",
        "                    'shuffle': True}\n",
        "    train_kwargs.update(cuda_kwargs)\n",
        "    test_kwargs.update(cuda_kwargs)\n",
        "\n",
        "train_loader = DataLoader(train_dataset, **train_kwargs)\n",
        "val_loader = DataLoader(valid_dataset, **test_kwargs)\n",
        "\n",
        "model = Net().to(device)\n",
        "optimizer = optim.Adam(model.parameters(), lr=0.001)\n",
        "\n",
        "epochs = 20\n",
        "scheduler = StepLR(optimizer, step_size=1, gamma=0.7)\n",
        "log_interval = 10\n",
        "\n",
        "evaluation = {'test_loss': [], 'train_loss': [], 'accuracy': []}\n",
        "\n",
        "for epoch in range(1, epochs + 1):\n",
        "    loss_values = train(log_interval, False, model, device, train_loader, optimizer, epoch)\n",
        "    eval_result = test(model, device, val_loader)\n",
        "    evaluation['train_loss'].append(loss_values)\n",
        "    evaluation['test_loss'].append(eval_result['test_loss'])\n",
        "    evaluation['accuracy'].append(eval_result['accuracy'])\n",
        "    scheduler.step()\n",
        "\n",
        "torch.save(model.state_dict(), \"rice_classifier.pt\")"
      ],
      "metadata": {
        "id": "cKj9oziNpCoq",
        "colab": {
          "base_uri": "https://localhost:8080/"
        },
        "outputId": "62a8c029-5449-453e-ab97-d6b2c7a1bfe9"
      },
      "execution_count": 80,
      "outputs": [
        {
          "output_type": "stream",
          "name": "stdout",
          "text": [
            "Train Epoch: 1 [0/4000 (0%)]\tLoss: 1.608559\n",
            "Train Epoch: 1 [500/4000 (12%)]\tLoss: 0.866559\n",
            "Train Epoch: 1 [1000/4000 (25%)]\tLoss: 0.394018\n",
            "Train Epoch: 1 [1500/4000 (38%)]\tLoss: 0.367522\n",
            "Train Epoch: 1 [2000/4000 (50%)]\tLoss: 0.372107\n",
            "Train Epoch: 1 [2500/4000 (62%)]\tLoss: 0.159033\n",
            "Train Epoch: 1 [3000/4000 (75%)]\tLoss: 0.322845\n",
            "Train Epoch: 1 [3500/4000 (88%)]\tLoss: 0.475453\n",
            "\n",
            "Test set: Average loss: 0.2501, Accuracy: 885/1000 (88%)\n",
            "Train Epoch: 2 [0/4000 (0%)]\tLoss: 0.158259\n",
            "Train Epoch: 2 [500/4000 (12%)]\tLoss: 0.231520\n",
            "Train Epoch: 2 [1000/4000 (25%)]\tLoss: 0.179041\n",
            "Train Epoch: 2 [1500/4000 (38%)]\tLoss: 0.203944\n",
            "Train Epoch: 2 [2000/4000 (50%)]\tLoss: 0.172758\n",
            "Train Epoch: 2 [2500/4000 (62%)]\tLoss: 0.036844\n",
            "Train Epoch: 2 [3000/4000 (75%)]\tLoss: 0.344478\n",
            "Train Epoch: 2 [3500/4000 (88%)]\tLoss: 0.102986\n",
            "\n",
            "Test set: Average loss: 0.1671, Accuracy: 937/1000 (94%)\n",
            "Train Epoch: 3 [0/4000 (0%)]\tLoss: 0.204539\n",
            "Train Epoch: 3 [500/4000 (12%)]\tLoss: 0.097091\n",
            "Train Epoch: 3 [1000/4000 (25%)]\tLoss: 0.185579\n",
            "Train Epoch: 3 [1500/4000 (38%)]\tLoss: 0.184355\n",
            "Train Epoch: 3 [2000/4000 (50%)]\tLoss: 0.082518\n",
            "Train Epoch: 3 [2500/4000 (62%)]\tLoss: 0.035043\n",
            "Train Epoch: 3 [3000/4000 (75%)]\tLoss: 0.327295\n",
            "Train Epoch: 3 [3500/4000 (88%)]\tLoss: 0.093899\n",
            "\n",
            "Test set: Average loss: 0.1114, Accuracy: 963/1000 (96%)\n",
            "Train Epoch: 4 [0/4000 (0%)]\tLoss: 0.081381\n",
            "Train Epoch: 4 [500/4000 (12%)]\tLoss: 0.057176\n",
            "Train Epoch: 4 [1000/4000 (25%)]\tLoss: 0.155355\n",
            "Train Epoch: 4 [1500/4000 (38%)]\tLoss: 0.169020\n",
            "Train Epoch: 4 [2000/4000 (50%)]\tLoss: 0.070355\n",
            "Train Epoch: 4 [2500/4000 (62%)]\tLoss: 0.027071\n",
            "Train Epoch: 4 [3000/4000 (75%)]\tLoss: 0.158717\n",
            "Train Epoch: 4 [3500/4000 (88%)]\tLoss: 0.044437\n",
            "\n",
            "Test set: Average loss: 0.0887, Accuracy: 967/1000 (97%)\n",
            "Train Epoch: 5 [0/4000 (0%)]\tLoss: 0.038792\n",
            "Train Epoch: 5 [500/4000 (12%)]\tLoss: 0.035871\n",
            "Train Epoch: 5 [1000/4000 (25%)]\tLoss: 0.121740\n",
            "Train Epoch: 5 [1500/4000 (38%)]\tLoss: 0.113288\n",
            "Train Epoch: 5 [2000/4000 (50%)]\tLoss: 0.050837\n",
            "Train Epoch: 5 [2500/4000 (62%)]\tLoss: 0.034095\n",
            "Train Epoch: 5 [3000/4000 (75%)]\tLoss: 0.101248\n",
            "Train Epoch: 5 [3500/4000 (88%)]\tLoss: 0.117298\n",
            "\n",
            "Test set: Average loss: 0.1442, Accuracy: 953/1000 (95%)\n",
            "Train Epoch: 6 [0/4000 (0%)]\tLoss: 0.172385\n",
            "Train Epoch: 6 [500/4000 (12%)]\tLoss: 0.043575\n",
            "Train Epoch: 6 [1000/4000 (25%)]\tLoss: 0.106401\n",
            "Train Epoch: 6 [1500/4000 (38%)]\tLoss: 0.101651\n",
            "Train Epoch: 6 [2000/4000 (50%)]\tLoss: 0.049770\n",
            "Train Epoch: 6 [2500/4000 (62%)]\tLoss: 0.020293\n",
            "Train Epoch: 6 [3000/4000 (75%)]\tLoss: 0.102227\n",
            "Train Epoch: 6 [3500/4000 (88%)]\tLoss: 0.105081\n",
            "\n",
            "Test set: Average loss: 0.1109, Accuracy: 959/1000 (96%)\n",
            "Train Epoch: 7 [0/4000 (0%)]\tLoss: 0.050425\n",
            "Train Epoch: 7 [500/4000 (12%)]\tLoss: 0.039076\n",
            "Train Epoch: 7 [1000/4000 (25%)]\tLoss: 0.125078\n",
            "Train Epoch: 7 [1500/4000 (38%)]\tLoss: 0.121575\n",
            "Train Epoch: 7 [2000/4000 (50%)]\tLoss: 0.055002\n",
            "Train Epoch: 7 [2500/4000 (62%)]\tLoss: 0.020818\n",
            "Train Epoch: 7 [3000/4000 (75%)]\tLoss: 0.060792\n",
            "Train Epoch: 7 [3500/4000 (88%)]\tLoss: 0.045353\n",
            "\n",
            "Test set: Average loss: 0.0991, Accuracy: 958/1000 (96%)\n",
            "Train Epoch: 8 [0/4000 (0%)]\tLoss: 0.039391\n",
            "Train Epoch: 8 [500/4000 (12%)]\tLoss: 0.027857\n",
            "Train Epoch: 8 [1000/4000 (25%)]\tLoss: 0.136251\n",
            "Train Epoch: 8 [1500/4000 (38%)]\tLoss: 0.117644\n",
            "Train Epoch: 8 [2000/4000 (50%)]\tLoss: 0.049255\n",
            "Train Epoch: 8 [2500/4000 (62%)]\tLoss: 0.021190\n",
            "Train Epoch: 8 [3000/4000 (75%)]\tLoss: 0.055578\n",
            "Train Epoch: 8 [3500/4000 (88%)]\tLoss: 0.031896\n",
            "\n",
            "Test set: Average loss: 0.0852, Accuracy: 966/1000 (97%)\n",
            "Train Epoch: 9 [0/4000 (0%)]\tLoss: 0.031971\n",
            "Train Epoch: 9 [500/4000 (12%)]\tLoss: 0.032277\n",
            "Train Epoch: 9 [1000/4000 (25%)]\tLoss: 0.115290\n",
            "Train Epoch: 9 [1500/4000 (38%)]\tLoss: 0.126349\n",
            "Train Epoch: 9 [2000/4000 (50%)]\tLoss: 0.034666\n",
            "Train Epoch: 9 [2500/4000 (62%)]\tLoss: 0.013707\n",
            "Train Epoch: 9 [3000/4000 (75%)]\tLoss: 0.053882\n",
            "Train Epoch: 9 [3500/4000 (88%)]\tLoss: 0.030076\n",
            "\n",
            "Test set: Average loss: 0.0851, Accuracy: 965/1000 (96%)\n",
            "Train Epoch: 10 [0/4000 (0%)]\tLoss: 0.030630\n",
            "Train Epoch: 10 [500/4000 (12%)]\tLoss: 0.032053\n",
            "Train Epoch: 10 [1000/4000 (25%)]\tLoss: 0.106233\n",
            "Train Epoch: 10 [1500/4000 (38%)]\tLoss: 0.122880\n",
            "Train Epoch: 10 [2000/4000 (50%)]\tLoss: 0.026150\n",
            "Train Epoch: 10 [2500/4000 (62%)]\tLoss: 0.012083\n",
            "Train Epoch: 10 [3000/4000 (75%)]\tLoss: 0.051876\n",
            "Train Epoch: 10 [3500/4000 (88%)]\tLoss: 0.029618\n",
            "\n",
            "Test set: Average loss: 0.0852, Accuracy: 967/1000 (97%)\n",
            "Train Epoch: 11 [0/4000 (0%)]\tLoss: 0.029865\n",
            "Train Epoch: 11 [500/4000 (12%)]\tLoss: 0.034044\n",
            "Train Epoch: 11 [1000/4000 (25%)]\tLoss: 0.099830\n",
            "Train Epoch: 11 [1500/4000 (38%)]\tLoss: 0.114780\n",
            "Train Epoch: 11 [2000/4000 (50%)]\tLoss: 0.022785\n",
            "Train Epoch: 11 [2500/4000 (62%)]\tLoss: 0.011587\n",
            "Train Epoch: 11 [3000/4000 (75%)]\tLoss: 0.049671\n",
            "Train Epoch: 11 [3500/4000 (88%)]\tLoss: 0.026866\n",
            "\n",
            "Test set: Average loss: 0.0848, Accuracy: 967/1000 (97%)\n",
            "Train Epoch: 12 [0/4000 (0%)]\tLoss: 0.029348\n",
            "Train Epoch: 12 [500/4000 (12%)]\tLoss: 0.034649\n",
            "Train Epoch: 12 [1000/4000 (25%)]\tLoss: 0.096723\n",
            "Train Epoch: 12 [1500/4000 (38%)]\tLoss: 0.102202\n",
            "Train Epoch: 12 [2000/4000 (50%)]\tLoss: 0.021681\n",
            "Train Epoch: 12 [2500/4000 (62%)]\tLoss: 0.011339\n",
            "Train Epoch: 12 [3000/4000 (75%)]\tLoss: 0.048031\n",
            "Train Epoch: 12 [3500/4000 (88%)]\tLoss: 0.022765\n",
            "\n",
            "Test set: Average loss: 0.0838, Accuracy: 966/1000 (97%)\n",
            "Train Epoch: 13 [0/4000 (0%)]\tLoss: 0.028959\n",
            "Train Epoch: 13 [500/4000 (12%)]\tLoss: 0.033115\n",
            "Train Epoch: 13 [1000/4000 (25%)]\tLoss: 0.095868\n",
            "Train Epoch: 13 [1500/4000 (38%)]\tLoss: 0.093318\n",
            "Train Epoch: 13 [2000/4000 (50%)]\tLoss: 0.021925\n",
            "Train Epoch: 13 [2500/4000 (62%)]\tLoss: 0.011333\n",
            "Train Epoch: 13 [3000/4000 (75%)]\tLoss: 0.046915\n",
            "Train Epoch: 13 [3500/4000 (88%)]\tLoss: 0.020564\n",
            "\n",
            "Test set: Average loss: 0.0828, Accuracy: 967/1000 (97%)\n",
            "Train Epoch: 14 [0/4000 (0%)]\tLoss: 0.029259\n",
            "Train Epoch: 14 [500/4000 (12%)]\tLoss: 0.029458\n",
            "Train Epoch: 14 [1000/4000 (25%)]\tLoss: 0.095669\n",
            "Train Epoch: 14 [1500/4000 (38%)]\tLoss: 0.089281\n",
            "Train Epoch: 14 [2000/4000 (50%)]\tLoss: 0.023101\n",
            "Train Epoch: 14 [2500/4000 (62%)]\tLoss: 0.011683\n",
            "Train Epoch: 14 [3000/4000 (75%)]\tLoss: 0.045988\n",
            "Train Epoch: 14 [3500/4000 (88%)]\tLoss: 0.019406\n",
            "\n",
            "Test set: Average loss: 0.0824, Accuracy: 970/1000 (97%)\n",
            "Train Epoch: 15 [0/4000 (0%)]\tLoss: 0.030224\n",
            "Train Epoch: 15 [500/4000 (12%)]\tLoss: 0.025915\n",
            "Train Epoch: 15 [1000/4000 (25%)]\tLoss: 0.096064\n",
            "Train Epoch: 15 [1500/4000 (38%)]\tLoss: 0.088536\n",
            "Train Epoch: 15 [2000/4000 (50%)]\tLoss: 0.023637\n",
            "Train Epoch: 15 [2500/4000 (62%)]\tLoss: 0.012181\n",
            "Train Epoch: 15 [3000/4000 (75%)]\tLoss: 0.045206\n",
            "Train Epoch: 15 [3500/4000 (88%)]\tLoss: 0.018328\n",
            "\n",
            "Test set: Average loss: 0.0824, Accuracy: 970/1000 (97%)\n",
            "Train Epoch: 16 [0/4000 (0%)]\tLoss: 0.030843\n",
            "Train Epoch: 16 [500/4000 (12%)]\tLoss: 0.023923\n",
            "Train Epoch: 16 [1000/4000 (25%)]\tLoss: 0.096559\n",
            "Train Epoch: 16 [1500/4000 (38%)]\tLoss: 0.089004\n",
            "Train Epoch: 16 [2000/4000 (50%)]\tLoss: 0.023271\n",
            "Train Epoch: 16 [2500/4000 (62%)]\tLoss: 0.012528\n",
            "Train Epoch: 16 [3000/4000 (75%)]\tLoss: 0.044640\n",
            "Train Epoch: 16 [3500/4000 (88%)]\tLoss: 0.017505\n",
            "\n",
            "Test set: Average loss: 0.0823, Accuracy: 969/1000 (97%)\n",
            "Train Epoch: 17 [0/4000 (0%)]\tLoss: 0.030957\n",
            "Train Epoch: 17 [500/4000 (12%)]\tLoss: 0.023007\n",
            "Train Epoch: 17 [1000/4000 (25%)]\tLoss: 0.096802\n",
            "Train Epoch: 17 [1500/4000 (38%)]\tLoss: 0.089557\n",
            "Train Epoch: 17 [2000/4000 (50%)]\tLoss: 0.022733\n",
            "Train Epoch: 17 [2500/4000 (62%)]\tLoss: 0.012705\n",
            "Train Epoch: 17 [3000/4000 (75%)]\tLoss: 0.044301\n",
            "Train Epoch: 17 [3500/4000 (88%)]\tLoss: 0.016967\n",
            "\n",
            "Test set: Average loss: 0.0822, Accuracy: 969/1000 (97%)\n",
            "Train Epoch: 18 [0/4000 (0%)]\tLoss: 0.030905\n",
            "Train Epoch: 18 [500/4000 (12%)]\tLoss: 0.022539\n",
            "Train Epoch: 18 [1000/4000 (25%)]\tLoss: 0.096897\n",
            "Train Epoch: 18 [1500/4000 (38%)]\tLoss: 0.089963\n",
            "Train Epoch: 18 [2000/4000 (50%)]\tLoss: 0.022272\n",
            "Train Epoch: 18 [2500/4000 (62%)]\tLoss: 0.012798\n",
            "Train Epoch: 18 [3000/4000 (75%)]\tLoss: 0.044094\n",
            "Train Epoch: 18 [3500/4000 (88%)]\tLoss: 0.016617\n",
            "\n",
            "Test set: Average loss: 0.0822, Accuracy: 969/1000 (97%)\n",
            "Train Epoch: 19 [0/4000 (0%)]\tLoss: 0.030830\n",
            "Train Epoch: 19 [500/4000 (12%)]\tLoss: 0.022280\n",
            "Train Epoch: 19 [1000/4000 (25%)]\tLoss: 0.096923\n",
            "Train Epoch: 19 [1500/4000 (38%)]\tLoss: 0.090254\n",
            "Train Epoch: 19 [2000/4000 (50%)]\tLoss: 0.021937\n",
            "Train Epoch: 19 [2500/4000 (62%)]\tLoss: 0.012852\n",
            "Train Epoch: 19 [3000/4000 (75%)]\tLoss: 0.043954\n",
            "Train Epoch: 19 [3500/4000 (88%)]\tLoss: 0.016389\n",
            "\n",
            "Test set: Average loss: 0.0821, Accuracy: 969/1000 (97%)\n",
            "Train Epoch: 20 [0/4000 (0%)]\tLoss: 0.030759\n",
            "Train Epoch: 20 [500/4000 (12%)]\tLoss: 0.022127\n",
            "Train Epoch: 20 [1000/4000 (25%)]\tLoss: 0.096909\n",
            "Train Epoch: 20 [1500/4000 (38%)]\tLoss: 0.090439\n",
            "Train Epoch: 20 [2000/4000 (50%)]\tLoss: 0.021697\n",
            "Train Epoch: 20 [2500/4000 (62%)]\tLoss: 0.012880\n",
            "Train Epoch: 20 [3000/4000 (75%)]\tLoss: 0.043862\n",
            "Train Epoch: 20 [3500/4000 (88%)]\tLoss: 0.016235\n",
            "\n",
            "Test set: Average loss: 0.0821, Accuracy: 969/1000 (97%)\n"
          ]
        }
      ]
    },
    {
      "cell_type": "markdown",
      "source": [
        "## Avaliação do modelo"
      ],
      "metadata": {
        "id": "DnHvrtbhBnj3"
      }
    },
    {
      "cell_type": "code",
      "source": [
        "# Dados\n",
        "epochs = range(1, len(evaluation['train_loss']) + 1)\n",
        "train_loss = [item[0] for item in evaluation['train_loss']]\n",
        "test_loss = evaluation['test_loss']\n",
        "accuracy = evaluation['accuracy']\n",
        "\n",
        "# Gráfico de train_loss vs test_loss\n",
        "plt.figure(figsize=(10, 5))\n",
        "plt.plot(epochs, train_loss, label='Train Loss', marker='o')\n",
        "plt.plot(epochs, test_loss, label='Test Loss', marker='x')\n",
        "plt.xlabel('Epochs')\n",
        "plt.ylabel('Loss')\n",
        "plt.title('Train Loss vs Test Loss')\n",
        "plt.legend()\n",
        "plt.grid(True)\n",
        "plt.show()\n",
        "\n",
        "# Gráfico de accuracy\n",
        "plt.figure(figsize=(10, 5))\n",
        "plt.plot(epochs, accuracy, label='Accuracy', marker='s', color='orange')\n",
        "plt.xlabel('Epochs')\n",
        "plt.ylabel('Accuracy (%)')\n",
        "plt.title('Accuracy vs Epochs')\n",
        "plt.grid(True)\n",
        "plt.show()"
      ],
      "metadata": {
        "colab": {
          "base_uri": "https://localhost:8080/",
          "height": 957
        },
        "id": "3-86MAB2xjH7",
        "outputId": "10e62a14-cbca-49f0-9a71-ccbf5a70742f"
      },
      "execution_count": 81,
      "outputs": [
        {
          "output_type": "display_data",
          "data": {
            "text/plain": [
              "<Figure size 1000x500 with 1 Axes>"
            ],
            "image/png": "[encoded data removed]"
          },
          "metadata": {}
        },
        {
          "output_type": "display_data",
          "data": {
            "text/plain": [
              "<Figure size 1000x500 with 1 Axes>"
            ],
            "image/png": "[encoded data removed]"
          },
          "metadata": {}
        }
      ]
    },
    {
      "cell_type": "markdown",
      "source": [
        "No início, enfrentou-se desafios na coleta de dados de imagens, pois o código apresentava baixa performance. Para resolver esse problema, realizou-se um pré-processamento dos caminhos dos arquivos e processou-se as imagens em lotes. Essa otimização resultou em significativa melhoria de desempenho.\n",
        "\n",
        "Quanto ao modelo, optou-se por utilizar escala de cinza, uma vez que as imagens possuíam pouca ou nenhuma cor. Definiu-se o tamanho das imagens como 64x64 pixels e trabalhou-se com 5 rótulos (labels). Felizmente, a implementação da rede neural não apresentou grandes dificuldades.\n",
        "\n",
        "Surpreendentemente, não foi necessário realizar ajustes para mitigar overfitting ou underfitting. Ao analisar o gráfico de perdas, observou-se que o modelo se comportou conforme o esperado. Após 20 épocas de treinamento, alcançou-se uma acurácia de 97%, o que é um resultado muito satisfatório."
      ],
      "metadata": {
        "id": "s54fBDUZ9k8Z"
      }
    }
  ]
}